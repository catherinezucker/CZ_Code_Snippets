{
 "cells": [
  {
   "cell_type": "code",
   "execution_count": 1,
   "metadata": {},
   "outputs": [
    {
     "name": "stdout",
     "output_type": "stream",
     "text": [
      "SDSS-V platePlans table written to /Users/catherinezucker/ppv/test10/platePlans_sdss5.fits\n"
     ]
    },
    {
     "name": "stderr",
     "output_type": "stream",
     "text": [
      "WARNING: VerifyWarning: Keyword name '@insert_new_runs_here' is greater than 8 characters or contains characters not allowed by the FITS standard; a HIERARCH card will be created. [astropy.io.fits.card]\n"
     ]
    }
   ],
   "source": [
    "from astropy.table import Table\n",
    "import ppv  \n",
    "\n",
    "# table of targets from v0.1 of targetDB  (read 'Targets' to see how to get this file; just demoing here)\n",
    "dust_targetDB = Table.read('../data/mwm_dust_0.1.0_targetdb.fits.gz')"
   ]
  },
  {
   "cell_type": "markdown",
   "metadata": {},
   "source": [
    "### Dust Targets in Finalized Version of MWM_02 (i.e. 2020.12.a.mwm-bhm)"
   ]
  },
  {
   "cell_type": "code",
   "execution_count": 2,
   "metadata": {},
   "outputs": [
    {
     "name": "stdout",
     "output_type": "stream",
     "text": [
      "Assuming RA, Dec are in degrees and 2015.5 epoch\n",
      "Please be patient.\n",
      "                  Initial target loading for Platerun can take up to 1 second per field.\n",
      "                  Loading target data from 45 Fields...\n",
      "Please be patient.\n",
      "                      Initial target loading can take up to 1 second per field.\n",
      "                      Loading target data from 45 Fields...\n",
      "Actual assigned: 220, Possible assigned: 2748\n"
     ]
    }
   ],
   "source": [
    "# Create targets object (see Targets section below for more information)\n",
    "from ppv.targets import Targets\n",
    "\n",
    "dust_targets = Targets(dust_targetDB)\n",
    "\n",
    "# Define a plate run using the correct string identifier\n",
    "from ppv.groups import Platerun\n",
    "plate_run = Platerun('2020.12.a.mwm-bhm')\n",
    "\n",
    "# Get available targets based on position. \n",
    "maybe_observed = dust_targets.available_in(plate_run)\n",
    "dust_targets.data[maybe_observed]\n",
    "\n",
    "# Get targets that were assigned a fiber in this platerun.\n",
    "observed = dust_targets.assigned_in(plate_run)\n",
    "dust_targets.data[observed]\n",
    "\n",
    "print(\"Actual assigned: {}, Possible assigned: {}\".format(len(dust_targets.data[observed]),len(dust_targets.data[maybe_observed])))"
   ]
  },
  {
   "cell_type": "markdown",
   "metadata": {},
   "source": [
    "### Dust Targets in Original Version of MWM_02 in five plates\n"
   ]
  },
  {
   "cell_type": "code",
   "execution_count": 3,
   "metadata": {},
   "outputs": [
    {
     "name": "stdout",
     "output_type": "stream",
     "text": [
      "Please be patient.\n",
      "                  Initial target loading for Platerun can take up to 1 second per field.\n",
      "                  Loading target data from 46 Fields...\n",
      "Please be patient.\n",
      "                      Initial target loading can take up to 1 second per field.\n",
      "                      Loading target data from 46 Fields...\n",
      "Actual assigned: 2753, Possible assigned: 2795\n"
     ]
    }
   ],
   "source": [
    "plate_run_orig = ppv.fiveplates.Platerun('MWM_02')\n",
    "\n",
    "# Get available targets based on position. \n",
    "maybe_observed_orig = dust_targets.available_in(plate_run_orig)\n",
    "dust_targets.data[maybe_observed_orig]\n",
    "\n",
    "# Get targets that were assigned a fiber in this platerun.\n",
    "observed_orig = dust_targets.assigned_in(plate_run_orig)\n",
    "dust_targets.data[observed_orig]\n",
    "\n",
    "print(\"Actual assigned: {}, Possible assigned: {}\".format(len(dust_targets.data[observed_orig]),len(dust_targets.data[maybe_observed_orig])))"
   ]
  },
  {
   "cell_type": "code",
   "execution_count": null,
   "metadata": {},
   "outputs": [],
   "source": []
  }
 ],
 "metadata": {
  "kernelspec": {
   "display_name": "Python 3",
   "language": "python",
   "name": "python3"
  },
  "language_info": {
   "codemirror_mode": {
    "name": "ipython",
    "version": 3
   },
   "file_extension": ".py",
   "mimetype": "text/x-python",
   "name": "python",
   "nbconvert_exporter": "python",
   "pygments_lexer": "ipython3",
   "version": "3.8.6"
  }
 },
 "nbformat": 4,
 "nbformat_minor": 4
}
