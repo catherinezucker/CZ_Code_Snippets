{
 "cells": [
  {
   "cell_type": "code",
   "execution_count": 204,
   "metadata": {
    "collapsed": true
   },
   "outputs": [],
   "source": [
    "import aplpy\n",
    "import makenicefigure\n",
    "import matplotlib.pyplot as plt\n",
    "import numpy as np\n",
    "from astropy.io import ascii\n",
    "from astropy.table import Table\n",
    "from astropy.io import fits\n",
    "from astropy import wcs\n",
    "from astropy.io import fits\n",
    "\n",
    "#read in all the spectral catalogs \n",
    "bgpsdata=Table.read(\"/Users/catherinezucker/Dropbox/Filaments_Comp_Paper/Spectral_Catalogs/BGPS_Final.txt\",format='ascii')\n",
    "atlasgaldata=Table.read(\"/Users/catherinezucker/Dropbox/Filaments_Comp_Paper/Spectral_Catalogs/ATLASGAL.txt\",format='ascii')\n",
    "hopsdata=Table.read(\"/Users/catherinezucker/Dropbox/Filaments_Comp_Paper/Spectral_Catalogs/HOPS_Catalog.txt\",format='ascii')\n",
    "malt90data=Table.read(\"/Users/catherinezucker/Dropbox/Filaments_Comp_Paper/Spectral_Catalogs/MALT90_Catalog.txt\",format='ascii')\n"
   ]
  },
  {
   "cell_type": "code",
   "execution_count": 205,
   "metadata": {
    "collapsed": false
   },
   "outputs": [],
   "source": [
    "#Read in our mask file\n",
    "hdulist = fits.open(\"/Users/catherinezucker/Dropbox/Filaments_Comp_Paper/Amy/\"+fil+\"/\"+fil+\"_Mask_Final.fits\")\n",
    "mask=hdulist[0].data\n",
    "\n",
    "# Parse the WCS header\n",
    "w = wcs.WCS(hdulist[0].header)\n",
    "\n",
    "#Extract relevant BGPS longitude, latitude, and velocity columns from table\n",
    "#You can extract correct column by printing the table (just type \"bgpsdata\" etc) \n",
    "#and it will indicate what string lon, lat, and vel are called in each text file\n",
    "BGPS_l=bgpsdata[\"Glon\"] \n",
    "BGPS_b=bgpsdata[\"Glat\"]\n",
    "BGPS_v=bgpsdata[\"vLSR\"]\n",
    "BGPS_world=np.vstack((BGPS_l,BGPS_b))\n",
    "BGPS_world=np.array(BGPS_world).T\n",
    "\n",
    "#Convert longitude and latitude values to pixel coordinates so we can test if in mask\n",
    "pixcrd = w.wcs_world2pix(BGPS_world, 1)\n",
    "\n",
    "#Restrict test points to those that fall inside bounds of image mask\n",
    "inbounds=(pixcrd[:,0] > 0) & (pixcrd[:,0] < mask.shape[1]-1) & (pixcrd[:,1] > 0) & (pixcrd[:,1]<mask.shape[0]-1)\n",
    "\n",
    "#Now test which points that fall within the image boundaries are within the filament boundaries \n",
    "infil=np.where(mask[pixcrd[inbounds][:,1].astype(int), pixcrd[inbounds][:,0].astype(int)]==1)[0]\n",
    "\n",
    "#Combine the two masks together so we can pick out the points from original BGPS_l, BGPS_v arrays\n",
    "final=np.where(inbounds==True)[0][infil]\n",
    "\n",
    "#Here are all the points in the catalog with l,b inside filament mask\n",
    "lcat=BGPS_l[final]\n",
    "bcat=BGPS_b[final]\n",
    "vcat=BGPS_v[final]\n",
    "\n",
    "#BUT unfortunately not all l,b points have a corresponding velocity measurement, so we'll also have to cut by that too\n",
    "vreal=np.where(np.isfinite(vcat)==True)\n",
    "\n",
    "#Here are the final plottable l,v values for your overlays (b is here just for reference)!\n",
    "lplot=lcat[vreal]\n",
    "bplot=bcat[vreal]\n",
    "vplot=vcat[vreal]"
   ]
  },
  {
   "cell_type": "code",
   "execution_count": null,
   "metadata": {
    "collapsed": true
   },
   "outputs": [],
   "source": []
  }
 ],
 "metadata": {
  "kernelspec": {
   "display_name": "Python 3",
   "language": "python",
   "name": "python3"
  },
  "language_info": {
   "codemirror_mode": {
    "name": "ipython",
    "version": 3
   },
   "file_extension": ".py",
   "mimetype": "text/x-python",
   "name": "python",
   "nbconvert_exporter": "python",
   "pygments_lexer": "ipython3",
   "version": "3.5.2"
  }
 },
 "nbformat": 4,
 "nbformat_minor": 1
}
